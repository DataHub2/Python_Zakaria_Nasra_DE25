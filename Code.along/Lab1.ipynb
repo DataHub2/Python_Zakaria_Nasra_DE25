{
 "cells": [
  {
   "cell_type": "markdown",
   "id": "b54bb24a",
   "metadata": {},
   "source": [
    "Lab 1"
   ]
  },
  {
   "cell_type": "code",
   "execution_count": null,
   "id": "38f18fcf",
   "metadata": {},
   "outputs": [],
   "source": [
    "# This code is reading DNA- seq.\n"
   ]
  }
 ],
 "metadata": {
  "kernelspec": {
   "display_name": "Python_Zakaria_Nasra_DE25",
   "language": "python",
   "name": "python3"
  },
  "language_info": {
   "name": "python",
   "version": "3.12.10"
  }
 },
 "nbformat": 4,
 "nbformat_minor": 5
}
