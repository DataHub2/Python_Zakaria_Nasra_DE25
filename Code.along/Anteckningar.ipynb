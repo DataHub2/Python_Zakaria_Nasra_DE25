{
 "cells": [
  {
   "cell_type": "code",
   "execution_count": 17,
   "id": "06d05615",
   "metadata": {},
   "outputs": [
    {
     "name": "stdout",
     "output_type": "stream",
     "text": [
      "Hello World!\n"
     ]
    }
   ],
   "source": [
    "print(\"Hello World!\")"
   ]
  },
  {
   "cell_type": "markdown",
   "id": "584d660e",
   "metadata": {},
   "source": [
    "## inputs"
   ]
  },
  {
   "cell_type": "code",
   "execution_count": 18,
   "id": "0da663f6",
   "metadata": {},
   "outputs": [
    {
     "name": "stdout",
     "output_type": "stream",
     "text": [
      "My name is Zakaria\n"
     ]
    }
   ],
   "source": [
    "print(\"My name is Zakaria\")"
   ]
  },
  {
   "cell_type": "code",
   "execution_count": 19,
   "id": "49ce8528",
   "metadata": {},
   "outputs": [
    {
     "name": "stdout",
     "output_type": "stream",
     "text": [
      "Your name is Zakaria\n"
     ]
    }
   ],
   "source": [
    "name = \"Zakaria\"\n",
    "print(f\"Your name is {name}\")"
   ]
  },
  {
   "cell_type": "code",
   "execution_count": 21,
   "id": "fd1d28fb",
   "metadata": {},
   "outputs": [
    {
     "name": "stdout",
     "output_type": "stream",
     "text": [
      "Zakaria is 27 years old.\n"
     ]
    }
   ],
   "source": [
    "name = input(\"What is your name?\")\n",
    "age = input(\"How old are you?\")\n",
    "\n",
    "print(f\"{name} is {age} years old.\")"
   ]
  },
  {
   "cell_type": "markdown",
   "id": "2ae45157",
   "metadata": {},
   "source": [
    "## type coercion "
   ]
  },
  {
   "cell_type": "code",
   "execution_count": 35,
   "id": "d2ffc5b2",
   "metadata": {},
   "outputs": [
    {
     "name": "stdout",
     "output_type": "stream",
     "text": [
      "force = 736.5N\n"
     ]
    }
   ],
   "source": [
    "gravity = 9.82\n",
    "mass = float(input(\"Enter your weight in kg:\"))\n",
    "\n",
    "force = mass*gravity\n",
    "\n",
    "print(f\"{force = }N\")"
   ]
  },
  {
   "cell_type": "code",
   "execution_count": 36,
   "id": "2aa813bd",
   "metadata": {},
   "outputs": [
    {
     "name": "stdout",
     "output_type": "stream",
     "text": [
      "force = 736.5N\n"
     ]
    }
   ],
   "source": [
    "print(f\"{force = :.1f}N\")"
   ]
  },
  {
   "cell_type": "code",
   "execution_count": 75,
   "id": "f564b194",
   "metadata": {},
   "outputs": [
    {
     "data": {
      "text/plain": [
       "5.0"
      ]
     },
     "execution_count": 75,
     "metadata": {},
     "output_type": "execute_result"
    }
   ],
   "source": [
    "number = 5\n",
    "float(number)"
   ]
  },
  {
   "cell_type": "markdown",
   "id": "f525344c",
   "metadata": {},
   "source": [
    "## Some more types!"
   ]
  },
  {
   "cell_type": "code",
   "execution_count": 38,
   "id": "c480b4c0",
   "metadata": {},
   "outputs": [
    {
     "data": {
      "text/plain": [
       "(int, str, bool, float)"
      ]
     },
     "execution_count": 38,
     "metadata": {},
     "output_type": "execute_result"
    }
   ],
   "source": [
    "radius = 7 \n",
    "geometry = \"circle\"\n",
    "is_unite_circle = False\n",
    "screen_inches = 6.4\n",
    "\n",
    "type(radius), type(geometry), type(is_unite_circle), type(screen_inches)"
   ]
  },
  {
   "cell_type": "markdown",
   "id": "cafe4015",
   "metadata": {},
   "source": [
    "## IF STATEMENTS"
   ]
  },
  {
   "cell_type": "code",
   "execution_count": 1,
   "id": "90aa492a",
   "metadata": {},
   "outputs": [
    {
     "name": "stdout",
     "output_type": "stream",
     "text": [
      "sorry, you are too young to attend this scary movie\n",
      "watch cartoons instead\n"
     ]
    }
   ],
   "source": [
    "age = int(input(\"Enter your age: \"))\n",
    "age_limit = 15\n",
    "if age < age_limit:\n",
    "    print(\"sorry, you are too young to attend this scary movie\")\n",
    "    print(\"watch cartoons instead\")\n",
    "else:\n",
    "        print(\"enjoy this scary movie!\")"
   ]
  },
  {
   "cell_type": "code",
   "execution_count": 2,
   "id": "12ea6f77",
   "metadata": {},
   "outputs": [
    {
     "name": "stdout",
     "output_type": "stream",
     "text": [
      "Welcome to the rollercoster\n"
     ]
    }
   ],
   "source": [
    "age = 15\n",
    "height = 130 \n",
    "\n",
    "if age > 11 and  130  <= height < 210:\n",
    "    print(\"Welcome to the rollercoster\")\n",
    "else:\n",
    "    print(\"Come back when you fullfill reqiuerments\")\n"
   ]
  },
  {
   "cell_type": "markdown",
   "id": "2978bf2f",
   "metadata": {},
   "source": [
    "## Modulo Operater"
   ]
  },
  {
   "cell_type": "code",
   "execution_count": 140,
   "id": "8068efd4",
   "metadata": {},
   "outputs": [
    {
     "name": "stdout",
     "output_type": "stream",
     "text": [
      "odd number\n"
     ]
    }
   ],
   "source": [
    "number = 5\n",
    "if not number % 2:\n",
    "    print(\"even number\")\n",
    "else: \n",
    "    print(\"odd number\") "
   ]
  },
  {
   "cell_type": "markdown",
   "id": "053140cc",
   "metadata": {},
   "source": [
    "## Truthy and falsy values"
   ]
  },
  {
   "cell_type": "code",
   "execution_count": 3,
   "id": "cc27b1b1",
   "metadata": {},
   "outputs": [
    {
     "name": "stdout",
     "output_type": "stream",
     "text": [
      "odd\n"
     ]
    }
   ],
   "source": [
    "number = 10\n",
    "if number % 2:\n",
    "    print(\"even\")\n",
    "else:\n",
    "    print(\"odd\")"
   ]
  },
  {
   "cell_type": "code",
   "execution_count": 4,
   "id": "44c9d978",
   "metadata": {},
   "outputs": [
    {
     "name": "stdout",
     "output_type": "stream",
     "text": [
      "odd\n"
     ]
    }
   ],
   "source": [
    "number = 10\n",
    "if number % 2:\n",
    "    print(\"even\")\n",
    "else:\n",
    "    print(\"odd\")"
   ]
  },
  {
   "cell_type": "code",
   "execution_count": 5,
   "id": "a40b63c9",
   "metadata": {},
   "outputs": [
    {
     "name": "stdout",
     "output_type": "stream",
     "text": [
      "Falsy\n"
     ]
    }
   ],
   "source": [
    "if 0:\n",
    "    print(\"Truthy\")\n",
    "else:\n",
    "    print(\"Falsy\") "
   ]
  },
  {
   "cell_type": "markdown",
   "id": "86ad09c9",
   "metadata": {},
   "source": [
    "## if-elif-else"
   ]
  },
  {
   "cell_type": "code",
   "execution_count": 6,
   "id": "f320a22a",
   "metadata": {},
   "outputs": [
    {
     "name": "stdout",
     "output_type": "stream",
     "text": [
      "Give patient 500mg\n"
     ]
    }
   ],
   "source": [
    "weight = 12\n",
    "if weight < 20:\n",
    "    print(\"Give patient 500mg\")\n",
    "elif weight < 40:\n",
    "    print(\"Give patient 750mg\")\n",
    "else: \n",
    "    print(\"Give patient 1000mg\")"
   ]
  },
  {
   "cell_type": "markdown",
   "id": "4e663643",
   "metadata": {},
   "source": [
    "# Nested if statements "
   ]
  },
  {
   "cell_type": "code",
   "execution_count": 7,
   "id": "7a4a379d",
   "metadata": {},
   "outputs": [
    {
     "name": "stdout",
     "output_type": "stream",
     "text": [
      "25 is divisible by 5\n",
      "25 is odd\n"
     ]
    }
   ],
   "source": [
    "number = 25\n",
    "if number % 5 == 0:\n",
    "    print(f\"{number} is divisible by 5\")\n",
    "    if number % 2 == 0:\n",
    "        print(f\"{number} is  even\")\n",
    "    else:\n",
    "        print(f\"{number} is odd\") "
   ]
  },
  {
   "cell_type": "markdown",
   "id": "ea8bc15a",
   "metadata": {},
   "source": [
    "# One line if statements"
   ]
  },
  {
   "cell_type": "code",
   "execution_count": 8,
   "id": "6befd70c",
   "metadata": {},
   "outputs": [
    {
     "name": "stdout",
     "output_type": "stream",
     "text": [
      "zakaria contains the leter 'z' \n"
     ]
    }
   ],
   "source": [
    "name = \"zakaria\"\n",
    "gender = \"male\"\n",
    "age = 27\n",
    "\n",
    "# one line if statement\n",
    "# \".lower()\" method converts all characters in a string to lowercase.\n",
    "if \"z\" in name.lower(): print(f\"{name} contains the leter 'z' \")"
   ]
  },
  {
   "cell_type": "code",
   "execution_count": 9,
   "id": "75d78059",
   "metadata": {},
   "outputs": [
    {
     "name": "stdout",
     "output_type": "stream",
     "text": [
      "Hi mister zakaria\n"
     ]
    }
   ],
   "source": [
    "print(f\"Hi mister {name}\"if gender == \"male\" else f\"Hi miss {name}\")"
   ]
  },
  {
   "cell_type": "code",
   "execution_count": 10,
   "id": "e3c084ac",
   "metadata": {},
   "outputs": [
    {
     "name": "stdout",
     "output_type": "stream",
     "text": [
      "True\n"
     ]
    }
   ],
   "source": [
    "# one line if-else variable assignment\n",
    "age = 17\n",
    "is_child = True if age < 18 else False\n",
    "print(is_child)"
   ]
  },
  {
   "cell_type": "markdown",
   "id": "b1cb2518",
   "metadata": {},
   "source": [
    "# Grundläggande if-elif-else övningar. "
   ]
  },
  {
   "cell_type": "code",
   "execution_count": 50,
   "id": "08a47655",
   "metadata": {},
   "outputs": [
    {
     "name": "stdout",
     "output_type": "stream",
     "text": [
      "pensionär\n"
     ]
    }
   ],
   "source": [
    "# Ordning baserat på ålder.  \n",
    "\n",
    "ålder = int(input(\"ange ålder här: \"))\n",
    "\n",
    "if ålder < 18:\n",
    "    print(\"barn\")\n",
    "elif ålder > 65: \n",
    "    print(\"pensionär\")\n",
    "else:\n",
    "    print(\"vuxen\")    "
   ]
  },
  {
   "cell_type": "code",
   "execution_count": null,
   "id": "0e7589fb",
   "metadata": {},
   "outputs": [],
   "source": [
    "\n",
    "if 16 <=  <= 19:\n",
    "    print(\"Din studentrabatt är 30%\")\n",
    "elif 65 <= customer: \n",
    "    print(\"Din pensionärrabatt är 50%\")  \n",
    "else:\n",
    "    print(\"Tyvärr, du har ingen studentrabatt\")  "
   ]
  },
  {
   "cell_type": "code",
   "execution_count": null,
   "id": "0719e7a3",
   "metadata": {},
   "outputs": [],
   "source": [
    "if number % 5 == 0:\n",
    "    print"
   ]
  },
  {
   "cell_type": "code",
   "execution_count": 69,
   "id": "6e8ed74e",
   "metadata": {},
   "outputs": [
    {
     "name": "stdout",
     "output_type": "stream",
     "text": [
      "Sätt på dig vinter jacka\n"
     ]
    }
   ],
   "source": [
    "# Väderklädsel\n",
    "temperatur = int(input(\" Ange temperatur här: \"))  \n",
    "if temperatur < 0:\n",
    "    print(\"Sätt på dig vinter jacka\")\n",
    "elif temperatur < 10:\n",
    "    print(\"sätt på dig höst jacka\")\n",
    "elif temperatur < 20: \n",
    "    print(\"sätt på dig t shirt men ta med dig en hoodie ifall det blir kallare på kvällen\")      \n",
    "elif temperatur < 30:\n",
    "    print(\"sätt på dig t shirt och shorts\")\n",
    "else:\n",
    "        print(\"sätt dig i solen och njut, glöm inte solkräm!\")\n",
    "\n",
    "\n",
    "\n",
    "\n",
    "        \n"
   ]
  },
  {
   "cell_type": "code",
   "execution_count": 157,
   "id": "2442c950",
   "metadata": {},
   "outputs": [
    {
     "name": "stdout",
     "output_type": "stream",
     "text": [
      "Du får 30% rabatt. Pris: 70.0 kr\n"
     ]
    }
   ],
   "source": [
    "kostnad_per_äpple = 10\n",
    "kund = input(\"Är du student eller pensionär?\")\n",
    "\n",
    "Äpple = int(input(\"Hur många äpplen vill du handla?\"))\n",
    "\n",
    "total_kostnad = kostnad_per_äpple * Äpple\n",
    "\n",
    "if kund == \"student\":\n",
    "    sista_pris = total_kostnad * 0.70  \n",
    "    print(f\"Du får 30% rabatt. Pris: {sista_pris} kr\")\n",
    "elif kund == \"pensionär\":\n",
    "    sista_pris = total_kostnad * 0.50    \n",
    "    print(f\"Du får 50% rabatt. Pris: {sista_pris} kr\")\n",
    "else:\n",
    "    sista_pris = total_kostnad\n",
    "    print(f\"Du får ingen rabatt. Pris: {sista_pris} kr\")"
   ]
  },
  {
   "cell_type": "code",
   "execution_count": null,
   "id": "5913a1cb",
   "metadata": {},
   "outputs": [],
   "source": [
    "# Träningsintensitet\n",
    "\n",
    "puls = inte(input(\"Ange din puls här: \"))\n",
    "if 100 <= puls < 120:\n",
    "    print(\"låg intensitet\")\n",
    "    \n"
   ]
  },
  {
   "cell_type": "markdown",
   "id": "eced9bfb",
   "metadata": {},
   "source": [
    "# While-statement"
   ]
  },
  {
   "cell_type": "code",
   "execution_count": 46,
   "id": "d0fbe686",
   "metadata": {},
   "outputs": [],
   "source": [
    "n  = 0\n",
    "while zak < 6:\n",
    "    print(f\"Hello {n}\")\n",
    "    zak += 2\n",
    "    "
   ]
  },
  {
   "cell_type": "code",
   "execution_count": 85,
   "id": "f4015d48",
   "metadata": {},
   "outputs": [
    {
     "name": "stdout",
     "output_type": "stream",
     "text": [
      "year 0 there were  80000 \n",
      "year 1 there were  40000 \n",
      "year 2 there were  20000 \n",
      "year 3 there were  10000 \n",
      "it takes 4 for the birds to have 1/10 remaining\n"
     ]
    }
   ],
   "source": [
    "# Example - Oil leakage\n",
    "\n",
    "birds = 80000\n",
    "year = 0\n",
    "\n",
    "while birds > 8000:\n",
    "    print(f\"year {year} there were {birds: .0f} \")\n",
    "    birds /= 2\n",
    "    year += 1\n",
    "print(f\"it takes {year} for the birds to have 1/10 remaining\")\n"
   ]
  },
  {
   "cell_type": "code",
   "execution_count": 88,
   "id": "6c9ac76b",
   "metadata": {},
   "outputs": [
    {
     "name": "stdout",
     "output_type": "stream",
     "text": [
      "-19 -17 -15 -13 -11 -9 -7 -5 -3 -1 1 3 5 7 9 11 13 15 17 19 "
     ]
    }
   ],
   "source": [
    "# Jämna tal\n",
    "n = -19\n",
    "while n <= 20:\n",
    "    print(n, end=\" \")\n",
    "    n += 2\n"
   ]
  },
  {
   "cell_type": "markdown",
   "id": "fb30e24e",
   "metadata": {},
   "source": [
    "## Break statement."
   ]
  },
  {
   "cell_type": "code",
   "execution_count": 125,
   "id": "7060bf05",
   "metadata": {},
   "outputs": [
    {
     "name": "stdout",
     "output_type": "stream",
     "text": [
      "Correct answer!\n",
      "Thanks for playing today!\n"
     ]
    }
   ],
   "source": [
    "import random as rnd\n",
    "\n",
    "while True:\n",
    "    number1 = rnd.randint(1,10)\n",
    "    number2 = rnd.randint(1,10)\n",
    "   \n",
    "    user_answer = int(input(f\"What is {number1}*{number2}?\"))\n",
    "    if user_answer == number1*number2:\n",
    "        print(\"Correct answer!\") \n",
    "       \n",
    "    else:\n",
    "        print(f\"Wrong answer! The awnser is {number1}*{number2}! \")\n",
    "\n",
    "    play_again = input(\"Do you want to play again? If yes type in yes and press enter!\")\n",
    "    if play_again != \"yes\":\n",
    "        print(\"Thanks for playing today!\")\n",
    "        break\n",
    "\n",
    "\n",
    "\n",
    "\n",
    "\n",
    "\n",
    "\n",
    "\n",
    "\n"
   ]
  },
  {
   "cell_type": "markdown",
   "id": "54d311dc",
   "metadata": {},
   "source": [
    "# For statements "
   ]
  },
  {
   "cell_type": "code",
   "execution_count": null,
   "id": "30ca9b9e",
   "metadata": {},
   "outputs": [
    {
     "name": "stdout",
     "output_type": "stream",
     "text": [
      "1\n",
      "2\n",
      "3\n",
      "4\n",
      "5\n"
     ]
    }
   ],
   "source": [
    "# Övning 1: Enkel räkning\n",
    "# Skriv en for-loop som skriver ut talen 1 till 5.\n",
    "for i in range(1, 6):\n",
    "    print(i)"
   ]
  },
  {
   "cell_type": "code",
   "execution_count": null,
   "id": "a956189b",
   "metadata": {},
   "outputs": [
    {
     "name": "stdout",
     "output_type": "stream",
     "text": [
      "1\n",
      "2\n",
      "3\n",
      "4\n",
      "5\n",
      "6\n",
      "7\n",
      "8\n",
      "9\n",
      "10\n",
      "summan av dessa tal är: 55\n"
     ]
    }
   ],
   "source": [
    "# Övning 2: Summering\n",
    "sum_ = 0\n",
    "for i in range(1,11):\n",
    "    sum_ += i\n",
    "    print(i)\n",
    "print(f\"summan av dessa tal är: {sum_}\")    \n"
   ]
  },
  {
   "cell_type": "code",
   "execution_count": 138,
   "id": "b9927c80",
   "metadata": {},
   "outputs": [
    {
     "name": "stdout",
     "output_type": "stream",
     "text": [
      "0 2 4 6 8 10 "
     ]
    }
   ],
   "source": [
    "# Övning 3: Jämna tal\n",
    "# Skriv en for-loop som skriver ut alla jämna tal mellan 0 och 10.\n",
    "for i in range(0, 11, 2):\n",
    "    print(i, end =\" \")\n",
    "\n",
    "\n"
   ]
  },
  {
   "cell_type": "code",
   "execution_count": null,
   "id": "d6223782",
   "metadata": {},
   "outputs": [],
   "source": [
    "# övning summa \n",
    "sum_ = 0 \n",
    "for i in range (1, 11):\n",
    "    sum += i"
   ]
  },
  {
   "cell_type": "code",
   "execution_count": 141,
   "id": "6f44af0b",
   "metadata": {},
   "outputs": [
    {
     "name": "stdout",
     "output_type": "stream",
     "text": [
      "BETYGSRAPPORT\n",
      "=============\n",
      "Elev 1: 45 poäng -> Betyg F\n",
      "Elev 2: 67 poäng -> Betyg D\n",
      "Elev 3: 23 poäng -> Betyg F\n",
      "Elev 4: 89 poäng -> Betyg B\n",
      "Elev 5: 56 poäng -> Betyg D\n",
      "Elev 6: 91 poäng -> Betyg A\n",
      "Elev 7: 34 poäng -> Betyg F\n",
      "Elev 8: 78 poäng -> Betyg C\n",
      "Elev 9: 12 poäng -> Betyg F\n",
      "Elev 10: 65 poäng -> Betyg D\n",
      "\n",
      "Sammanfattning: 6 av 10 elever godkända\n"
     ]
    }
   ],
   "source": [
    "# Lista med elevers poäng\n",
    "elevers_poäng = [45, 67, 23, 89, 56, 91, 34, 78, 12, 65]\n",
    "\n",
    "print(\"BETYGSRAPPORT\")\n",
    "print(\"=============\")\n",
    "\n",
    "# For-loop genom alla elever\n",
    "for i, poäng in enumerate(elevers_poäng, 1):\n",
    "    # If-satser för att bestämma betyg\n",
    "    if poäng >= 90:\n",
    "        betyg = \"A\"\n",
    "    elif poäng >= 80:\n",
    "        betyg = \"B\"\n",
    "    elif poäng >= 70:\n",
    "        betyg = \"C\"\n",
    "    elif poäng >= 50:\n",
    "        betyg = \"D\"\n",
    "    else:\n",
    "        betyg = \"F\"\n",
    "    \n",
    "    # Skriv ut resultat\n",
    "    print(f\"Elev {i}: {poäng} poäng -> Betyg {betyg}\")\n",
    "\n",
    "# Summering\n",
    "godkända = 0\n",
    "for poäng in elevers_poäng:\n",
    "    if poäng >= 50:\n",
    "        godkända += 1\n",
    "\n",
    "print(f\"\\nSammanfattning: {godkända} av {len(elevers_poäng)} elever godkända\")"
   ]
  },
  {
   "cell_type": "code",
   "execution_count": null,
   "id": "fce90128",
   "metadata": {},
   "outputs": [],
   "source": [
    "## Decide discounts for a customer\n",
    "\n"
   ]
  },
  {
   "cell_type": "code",
   "execution_count": 181,
   "id": "3d93090e",
   "metadata": {},
   "outputs": [
    {
     "name": "stdout",
     "output_type": "stream",
     "text": [
      "You get a 30% discount. price: 70.0 kr\n"
     ]
    }
   ],
   "source": [
    "## Rabatter\n",
    "cost_per_apple = 10\n",
    "costumer = input(\"Are you a student or a pensioner?\")\n",
    "\n",
    "apple = int(input(\"How many apples do you want to buy?\"))\n",
    "\n",
    "total_cost = cost_per_apple * apple\n",
    "\n",
    "if costumer == \"student\":\n",
    "    final_cost = total_cost * 0.70  \n",
    "    print(f\"You get a 30% discount. price: {final_cost} kr\")\n",
    "elif costumer == \"pensioner\":\n",
    "    final_cost = total_cost * 0.50    \n",
    "    print(f\"You get a 50% discount. Price: {final_cost} kr\")\n",
    "else:\n",
    "    final_cost = total_cost\n",
    "    print(f\"No discount available. Price: {final_cost} kr\")"
   ]
  },
  {
   "cell_type": "code",
   "execution_count": null,
   "id": "4d8081a5",
   "metadata": {},
   "outputs": [],
   "source": [
    "i = 0 \n",
    "\n",
    "while True:\n",
    "    print (i)\n",
    "    i += 1\n",
    "    if i >= 5: # this is the same as saying if (i) is bigger or as much as 5 then stop the loop (break)\n",
    "        break"
   ]
  },
  {
   "cell_type": "code",
   "execution_count": 182,
   "id": "12d3a9c1",
   "metadata": {},
   "outputs": [
    {
     "name": "stdout",
     "output_type": "stream",
     "text": [
      "1\n",
      "3\n"
     ]
    }
   ],
   "source": [
    "# an example with three arguments \n",
    "\n",
    "for i in range(1, 5, 2):\n",
    "    print(i)"
   ]
  },
  {
   "cell_type": "code",
   "execution_count": 183,
   "id": "fa96ae0b",
   "metadata": {},
   "outputs": [
    {
     "name": "stdout",
     "output_type": "stream",
     "text": [
      "1 3 "
     ]
    }
   ],
   "source": [
    "# we want to change the default setting of print() fuction to not start a new line \n",
    "for i in range(1, 5, 2):\n",
    "    print(i, end=\" \")\n"
   ]
  },
  {
   "cell_type": "markdown",
   "id": "fa6463b0",
   "metadata": {},
   "source": [
    "# Exercises"
   ]
  },
  {
   "cell_type": "code",
   "execution_count": null,
   "id": "a90da491",
   "metadata": {},
   "outputs": [
    {
     "name": "stdout",
     "output_type": "stream",
     "text": [
      "The length of the hypotenuse is: 5.0\n"
     ]
    }
   ],
   "source": [
    "        #Pythagorean theorem\n",
    "# a)\n",
    "\n",
    "a = 3\n",
    "b = 4\n",
    "c = (a**2 + b**2)**0.5\n",
    "print(f\"The length of the hypotenuse is: {c}\")\n",
    "\n",
    "\n",
    "\n",
    "\n"
   ]
  },
  {
   "cell_type": "code",
   "execution_count": 208,
   "id": "47685a3a",
   "metadata": {},
   "outputs": [
    {
     "name": "stdout",
     "output_type": "stream",
     "text": [
      " The messing catheti is  4.9\n"
     ]
    }
   ],
   "source": [
    "# b)\n",
    "\n",
    "a = 5.0\n",
    "c = 7.0 \n",
    "\n",
    "b = (c**2 -a**2)**0.5\n",
    "b  = (f\"{b: .1f}\")\n",
    "\n",
    "print(f\" The messing catheti is {b}\")\n"
   ]
  },
  {
   "cell_type": "code",
   "execution_count": 220,
   "id": "bb8912ba",
   "metadata": {},
   "outputs": [
    {
     "name": "stdout",
     "output_type": "stream",
     "text": [
      "9 is a positive number\n"
     ]
    }
   ],
   "source": [
    "# positive integer?\n",
    "# negative integer?\n",
    "# zero?\n",
    "number = int(input(\"Put in a number\"))\n",
    "\n",
    "if number > 0:\n",
    "    print(f\"{number} is a positive number\")\n",
    "elif number < 0:\n",
    "    print(f\"{number} is a negative number\")\n",
    "else:\n",
    "    print(f\"{number} is zero\")        \n"
   ]
  },
  {
   "cell_type": "code",
   "execution_count": 218,
   "id": "0a85d373",
   "metadata": {},
   "outputs": [
    {
     "name": "stdout",
     "output_type": "stream",
     "text": [
      "Not a valid answer\n"
     ]
    }
   ],
   "source": [
    "# exercise_2.md \n",
    "\n",
    "user = int(input(\"What number is the smallest between 2 and 3?\"))\n",
    "\n",
    "answer_1 = 2\n",
    "answer_2 = 3\n",
    "\n",
    "if user == answer_1:\n",
    "    print(\"Correct!\")\n",
    "\n",
    "elif user == answer_2:\n",
    "    print(\"Wrong try again\") \n",
    "\n",
    "else:\n",
    "    print(\"Not a valid answer\")       \n",
    "\n",
    "\n",
    "\n"
   ]
  },
  {
   "cell_type": "markdown",
   "id": "066e5379",
   "metadata": {},
   "source": [
    "\n"
   ]
  },
  {
   "cell_type": "code",
   "execution_count": 257,
   "id": "2dc5ad2d",
   "metadata": {},
   "outputs": [
    {
     "name": "stdout",
     "output_type": "stream",
     "text": [
      "This child should only take 1/2-1 pill\n"
     ]
    }
   ],
   "source": [
    "#  Medicine # based on weight and age\n",
    "\n",
    "#  The information in the following table is stated in a medicine package.\n",
    "#Also it is stated that for children weight is more important than age.\n",
    "\n",
    "weight = int(input(\"Enter your weight in kg\"))\n",
    "age = int(input(\"Enter your age\"))\n",
    "\n",
    "\n",
    "\n",
    "\n",
    "if weight >= 40:\n",
    "    print(\"Adult or adolescent, take 1-2 pill\")\n",
    "elif 26 <= weight <= 40:\n",
    "    print(\"This child should only take 1/2-1 pill\")\n",
    "elif 15 <= weight <= 25:\n",
    "    print(\"This child should only take 1/2 pill.\")\n",
    "else:\n",
    "    print(\"Contact doctor for advice\")    \n",
    "    \n",
    "\n",
    "\n",
    "\n",
    "\n",
    "\n",
    "\n",
    "\n",
    "\n",
    "\n"
   ]
  },
  {
   "cell_type": "markdown",
   "id": "4ce2e9f1",
   "metadata": {},
   "source": [
    "VIKTIGT:\n",
    "IDAG SKA DU GÖRA NY VERSION AV UPPGIFTEN VI GJORDE I KLASSRUMMET!"
   ]
  },
  {
   "cell_type": "code",
   "execution_count": 280,
   "id": "80fbd5c7",
   "metadata": {},
   "outputs": [
    {
     "name": "stdout",
     "output_type": "stream",
     "text": [
      "You get a 50% discount\n",
      "Your final price is 50kr\n"
     ]
    }
   ],
   "source": [
    "# Rabatt för köp av äpllen. det gäller studenter och penstionärer \n",
    "\n",
    "\n",
    "# Cost per apple without any discount \n",
    "cost_per_apple = 10\n",
    "\n",
    "customer_type = input(\"Are you a student or a pensioner?\")\n",
    "amount_of_apples = int(input(\"How many apples would you like to buy?\"))\n",
    "total_price = cost_per_apple * amount_of_apples\n",
    "\n",
    "#Discount depends on costumer input\n",
    "\n",
    "if customer_type == \"student\":\n",
    "    discount = 0.30 \n",
    "    \n",
    "    final_price = round(total_price * (1 - discount))\n",
    "    print(\"You get a 30% discount\")\n",
    "    print(f\"Your final price is {final_price}kr\")\n",
    "\n",
    "elif customer_type == \"pensioner\":\n",
    "    discount = 0.5\n",
    "\n",
    "    final_price = round(total_price * (1 - discount))\n",
    "    print(\"You get a 50% discount\")\n",
    "    print(f\"Your final price is {final_price}kr\")\n",
    "\n",
    "else:\n",
    "    print(\"You have no discount, have a nice day \")"
   ]
  },
  {
   "cell_type": "code",
   "execution_count": 301,
   "id": "8aa7a310",
   "metadata": {},
   "outputs": [
    {
     "name": "stdout",
     "output_type": "stream",
     "text": [
      "You get 40% discount on this order\n",
      "This is your final cost  45 kr\n"
     ]
    }
   ],
   "source": [
    "# övnin: kaffeköp med rabatter \n",
    "\n",
    "# base cost for a coffee \n",
    "coffee_cost = 25\n",
    "customer_type = input(\"Are you a VIP or regular customer?\")\n",
    "amount_of_coffees = int(input(\"How many cups of coffees of would you like?\"))\n",
    "total_price = coffee_cost * amount_of_coffees\n",
    "\n",
    "# for vip and regular customers we have discounts:\n",
    "# reguler: 20% off -- VIP: 50% off \n",
    "\n",
    "if customer_type == \"regular\":\n",
    "    discount = 0.2\n",
    "    final_price = (total_price) * (1 - discount)\n",
    "    print(\"You get 20% discount on this order\")\n",
    "    print(f\"This is your final cost {final_price: .0f}kr\")\n",
    "\n",
    "elif customer_type == \"VIP\":\n",
    "    discount = 0.4\n",
    "    final_price = (total_price) * (1 - discount)\n",
    "    print(\"You get 40% discount on this order\")\n",
    "    print(f\"This is your final cost {final_price: .0f} kr\")\n",
    "else: \n",
    "    print(\"You dont have a discount\")\n",
    "    print(f\"Your cost is {total_price: .0f}kr\")    \n",
    "\n",
    "\n",
    "\n",
    "\n",
    "\n"
   ]
  },
  {
   "cell_type": "code",
   "execution_count": 328,
   "id": "45d5c4a2",
   "metadata": {},
   "outputs": [
    {
     "name": "stdout",
     "output_type": "stream",
     "text": [
      "this is a even number\n",
      "this number is divisble with 5\n",
      "this number is not both odd and divisble by 5\n"
     ]
    }
   ],
   "source": [
    "# delbara nummer\n",
    "\n",
    "number = int(input(\"Enter number here: \"))\n",
    "\n",
    "if number % 2 == 0:\n",
    "    print(\"this is a even number\")\n",
    "else:\n",
    "    print(\"this a odd number\")\n",
    "\n",
    "if number % 5 == 0:\n",
    "    print(\"this number is divisble with 5\") \n",
    "\n",
    "else:\n",
    "    print(\"this number is not divisible by 5\")   \n",
    "\n",
    "\n",
    "if number % 2 != 0 and number % 5 == 0:\n",
    "    print(\"this number is odd, and this number is divisble by 5\")\n",
    "\n",
    "else:\n",
    "    print(\"this number is not both odd and divisble by 5\")    \n",
    "\n",
    "\n"
   ]
  },
  {
   "cell_type": "code",
   "execution_count": 336,
   "id": "0376fade",
   "metadata": {},
   "outputs": [
    {
     "name": "stdout",
     "output_type": "stream",
     "text": [
      "hi everyone0\n",
      "hi everyone1\n",
      "hi everyone2\n",
      "hi everyone3\n",
      "hi everyone4\n"
     ]
    }
   ],
   "source": [
    "#while statements \n",
    "n = 0\n",
    "user_input = int(input(\"Enter your number here\"))\n",
    "\n",
    "while n < 5:\n",
    "    print(f\"hi everyone{n}\")\n",
    "    n += 1\n",
    "    "
   ]
  },
  {
   "cell_type": "code",
   "execution_count": 340,
   "id": "414c4c84",
   "metadata": {},
   "outputs": [
    {
     "name": "stdout",
     "output_type": "stream",
     "text": [
      "year 0 there were  80000 left\n",
      "year 1 there were  40000 left\n",
      "year 2 there were  20000 left\n",
      "year 3 there were  10000 left\n",
      "it takes 4 for the bird population to reach 1/10 left\n"
     ]
    }
   ],
   "source": [
    "# oil leakage #bird population getting cut in half every year \n",
    "\n",
    "birds = 80000\n",
    "year = 0 \n",
    "# how many years will it take for it to only be 1/20 (8,000) birds left?\n",
    "while birds > 8000:\n",
    "    print(f\"year {year} there were {birds: .0f} left\")\n",
    "    birds /= 2\n",
    "    year += 1\n",
    "\n",
    "\n",
    "print(f\"it takes {year} for the bird population to reach 1/10 left\")\n",
    "\n",
    "\n",
    "\n",
    "\n"
   ]
  },
  {
   "cell_type": "code",
   "execution_count": null,
   "id": "9c20cb2a",
   "metadata": {},
   "outputs": [],
   "source": [
    "# System for a coffee shop.         # Im going to be using some of the new things i have learned:\n",
    "                                    # If statements\n",
    "                                    # While loops\n",
    "                                    # for statments \n",
    "                                    #lists\n",
    "                                    #tupels\n",
    "\n",
    "#menu\n",
    "# Varieties\n",
    "# Discounts\n",
    "# Black coffee prices and sizes\n",
    "# Tea prices and sizes\n",
    "\n",
    "# black coffee\n",
    "black_coffees = {\n",
    "\"small\": 25,\n",
    "\"medium\": 35,\n",
    "\"large\": 50\n",
    "}\n",
    " \n",
    "#tea \n",
    "\n",
    "tea = {\n",
    "\"small\": 15,\n",
    "\"medium\": 25,\n",
    "\"large\": 40\n",
    "}\n",
    "\n",
    "\n",
    "\n",
    " \n",
    "\n"
   ]
  },
  {
   "cell_type": "code",
   "execution_count": 343,
   "id": "6a52deeb",
   "metadata": {},
   "outputs": [
    {
     "name": "stdout",
     "output_type": "stream",
     "text": [
      "tv show 0: Suits\n",
      "tv show 1: Breaking bad\n",
      "tv show 3: last of us\n",
      "Suits\n",
      "Breaking bad\n",
      "last of us\n"
     ]
    }
   ],
   "source": [
    "tv_shows =[\"Suits\", \"Breaking bad\",\"last of us\"]\n",
    "print(f\"tv show 0: {tv_shows [0]}\")\n",
    "print(f\"tv show 1: {tv_shows [1]}\")\n",
    "print(f\"tv show 3: {tv_shows [2]}\")\n",
    "\n",
    "for tv_show in tv_shows:\n",
    "    print(tv_show)"
   ]
  },
  {
   "cell_type": "markdown",
   "id": "36fb233e",
   "metadata": {},
   "source": [
    "# Dice game \n"
   ]
  },
  {
   "cell_type": "code",
   "execution_count": 398,
   "id": "bb66cd61",
   "metadata": {},
   "outputs": [
    {
     "name": "stdout",
     "output_type": "stream",
     "text": [
      "number of sixes 1669 in (10000)\n",
      "probibility of getting a six 0.1669 \n"
     ]
    }
   ],
   "source": [
    "import random as rnd \n",
    "dice_rolls = 10_000\n",
    "num_six = 0\n",
    "\n",
    "for i in range(dice_rolls):\n",
    " dice = rnd.randint(1, 6)\n",
    " \n",
    " \n",
    " if dice == 6:\n",
    "    num_six += 1\n",
    "    \n",
    "print(f\"number of sixes {num_six} in ({dice_rolls})\")  \n",
    "\n",
    "print(f\"probibility of getting a six {num_six/dice_rolls} \")\n",
    "                    \n",
    "                 \n",
    "                                                                \n"
   ]
  },
  {
   "cell_type": "code",
   "execution_count": 446,
   "id": "03933541",
   "metadata": {},
   "outputs": [
    {
     "name": "stdout",
     "output_type": "stream",
     "text": [
      " I love eating\n",
      "1. apple\n",
      "2. strawberry\n",
      "3. pear,\n",
      "4. pineapple\n",
      "5. banana\n",
      "6. mango\n",
      "7. grape\n"
     ]
    }
   ],
   "source": [
    "## loop through a list            # With numbers\n",
    "print(\" I love eating\")\n",
    "fruits = [\"apple\", \"strawberry\", \"pear,\", \"pineapple\", \"banana\", \"mango\", \"grape\"]\n",
    "\n",
    "for i, fruit in enumerate(fruits, 1):\n",
    "    print(f\"{i}. {fruit}\")\n",
    "\n"
   ]
  },
  {
   "cell_type": "code",
   "execution_count": 460,
   "id": "df068902",
   "metadata": {},
   "outputs": [
    {
     "name": "stdout",
     "output_type": "stream",
     "text": [
      "FRUIT                RECIPE\n",
      "apple                pie\n",
      "strawberry           juice\n",
      "pear                 fufu\n",
      "pineapple            milk\n",
      "banana               olivoil\n"
     ]
    }
   ],
   "source": [
    "\n",
    "fruits = [\"apple\", \"strawberry\", \"pear\", \"pineapple\", \"banana\", \"mango\", \"grape\"]\n",
    "recipes = [\"pie\", \"juice\", \"fufu\", \"milk\", \"olivoil\"]\n",
    "\n",
    "print(f\"{'FRUIT': <20} {'RECIPE'}\")  # Fix: båda som strings\n",
    "\n",
    "for fruit, recipe in zip(fruits, recipes):\n",
    "    print(f\"{fruit: <20} {recipe}\")  # Fix: recipe istället för recipie"
   ]
  },
  {
   "cell_type": "markdown",
   "id": "160361c0",
   "metadata": {},
   "source": [
    "## Nested for loops"
   ]
  },
  {
   "cell_type": "code",
   "execution_count": 469,
   "id": "2e1a6626",
   "metadata": {},
   "outputs": [
    {
     "name": "stdout",
     "output_type": "stream",
     "text": [
      "(0. 0) (0. 1) (0. 2) \n",
      "(1. 0) (1. 1) (1. 2) \n",
      "(2. 0) (2. 1) (2. 2) \n"
     ]
    }
   ],
   "source": [
    "for x in range(3):\n",
    "    for y in range(3):\n",
    "        print(f\"({x}. {y})\", end = \" \")\n",
    "    print()    \n",
    " \n"
   ]
  },
  {
   "cell_type": "markdown",
   "id": "e28a70e1",
   "metadata": {},
   "source": [
    "# Lists"
   ]
  },
  {
   "cell_type": "code",
   "execution_count": 491,
   "id": "192794ed",
   "metadata": {},
   "outputs": [
    {
     "name": "stdout",
     "output_type": "stream",
     "text": [
      "['Master Chef', 'News']\n"
     ]
    }
   ],
   "source": [
    "tv_shows = [\"Antique show\", \"Master Chef\", \"News\", \"Talent\"]\n",
    "print(tv_shows [1:3])\n",
    "\n",
    " "
   ]
  },
  {
   "cell_type": "code",
   "execution_count": 483,
   "id": "004d49d8",
   "metadata": {},
   "outputs": [],
   "source": [
    "tv_shows = [0]"
   ]
  },
  {
   "cell_type": "code",
   "execution_count": 492,
   "id": "c0bf3933",
   "metadata": {},
   "outputs": [
    {
     "name": "stdout",
     "output_type": "stream",
     "text": [
      "Talent\n"
     ]
    }
   ],
   "source": [
    "print(tv_shows [-1])"
   ]
  },
  {
   "cell_type": "code",
   "execution_count": 500,
   "id": "8f15641e",
   "metadata": {},
   "outputs": [
    {
     "name": "stdout",
     "output_type": "stream",
     "text": [
      "1 Antique show\n",
      "2 Master Chef\n",
      "3 News\n",
      "4 Talent\n"
     ]
    }
   ],
   "source": [
    "## itereate throug a list\n",
    "for i, tv_show in enumerate(tv_shows, 1):\n",
    "    print(i, tv_show)\n"
   ]
  },
  {
   "cell_type": "markdown",
   "id": "5447ea23",
   "metadata": {},
   "source": [
    "Mutate list "
   ]
  },
  {
   "cell_type": "code",
   "execution_count": null,
   "id": "6906ae97",
   "metadata": {},
   "outputs": [
    {
     "data": {
      "text/plain": [
       "['yugio', 'Master Chef', 'News', 'pokemon']"
      ]
     },
     "execution_count": 506,
     "metadata": {},
     "output_type": "execute_result"
    }
   ],
   "source": [
    "tv_shows [-1] = \"pokemon\"\n",
    "\n",
    "tv_shows [0] = \"yugio\"\n",
    "tv_shows\n"
   ]
  },
  {
   "cell_type": "code",
   "execution_count": 514,
   "id": "703e503c",
   "metadata": {},
   "outputs": [
    {
     "name": "stdout",
     "output_type": "stream",
     "text": [
      "['Master Chef', 'News', 'pokemon', 'yugio']\n"
     ]
    }
   ],
   "source": [
    "# sort the list \n",
    "\n",
    "tv_shows = ['yugio', 'News', 'pokemon', 'Master Chef']\n",
    "tv_shows.sort()\n",
    "print(tv_shows)"
   ]
  },
  {
   "cell_type": "code",
   "execution_count": null,
   "id": "860d1ab7",
   "metadata": {},
   "outputs": [
    {
     "name": "stdout",
     "output_type": "stream",
     "text": [
      "[0, 1, 8, 27, 64, 125, 216, 343, 512, 729]\n"
     ]
    }
   ],
   "source": [
    "# list comprehension\n",
    "\n",
    "cubes = [x**3 for x in range(10)]\n",
    "\n",
    "print(cubes)\n",
    "\n"
   ]
  },
  {
   "cell_type": "code",
   "execution_count": 517,
   "id": "70d02e24",
   "metadata": {},
   "outputs": [
    {
     "data": {
      "text/plain": [
       "[36, 49, 64, 81]"
      ]
     },
     "execution_count": 517,
     "metadata": {},
     "output_type": "execute_result"
    }
   ],
   "source": [
    "[x**2 for x in range(10) if x**2 > 25]"
   ]
  },
  {
   "cell_type": "markdown",
   "id": "059d77c7",
   "metadata": {},
   "source": [
    "## tuples"
   ]
  },
  {
   "cell_type": "code",
   "execution_count": null,
   "id": "334314e6",
   "metadata": {},
   "outputs": [
    {
     "data": {
      "text/plain": [
       "12"
      ]
     },
     "execution_count": 523,
     "metadata": {},
     "output_type": "execute_result"
    }
   ],
   "source": [
    "mixed_tuple = (\"banna\", 12, 3.14, True)\n",
    "mixed_tuple\n",
    "\n",
    "mixed_tuple[1]\n"
   ]
  },
  {
   "cell_type": "code",
   "execution_count": 528,
   "id": "ab6c6d14",
   "metadata": {},
   "outputs": [
    {
     "data": {
      "text/plain": [
       "(12, True)"
      ]
     },
     "execution_count": 528,
     "metadata": {},
     "output_type": "execute_result"
    }
   ],
   "source": [
    "mixed_tuple[1:4:2]"
   ]
  },
  {
   "cell_type": "code",
   "execution_count": 529,
   "id": "3dd31391",
   "metadata": {},
   "outputs": [
    {
     "data": {
      "text/plain": [
       "([1.2], [3.2])"
      ]
     },
     "execution_count": 529,
     "metadata": {},
     "output_type": "execute_result"
    }
   ],
   "source": [
    "coordinates = ([1.2], [3.2])\n",
    "coordinates "
   ]
  },
  {
   "cell_type": "code",
   "execution_count": 532,
   "id": "2ebe5767",
   "metadata": {},
   "outputs": [
    {
     "data": {
      "text/plain": [
       "3"
      ]
     },
     "execution_count": 532,
     "metadata": {},
     "output_type": "execute_result"
    }
   ],
   "source": [
    "#tuple unpacking\n",
    "x,y,z = (1,2,3)\n",
    "z"
   ]
  },
  {
   "cell_type": "code",
   "execution_count": 536,
   "id": "a9f77c6a",
   "metadata": {},
   "outputs": [
    {
     "name": "stdout",
     "output_type": "stream",
     "text": [
      "x = 1y = 2 \n"
     ]
    }
   ],
   "source": [
    "x,y = y,x\n",
    "\n",
    "print(f\"{x = }{y = } \")"
   ]
  },
  {
   "cell_type": "markdown",
   "id": "cf47de13",
   "metadata": {},
   "source": [
    "## Sets"
   ]
  },
  {
   "cell_type": "code",
   "execution_count": 546,
   "id": "ea0f476c",
   "metadata": {},
   "outputs": [
    {
     "data": {
      "text/plain": [
       "{'ana@example.com',\n",
       " 'bob@example.com',\n",
       " 'fufu@example',\n",
       " 'hej@exapmle.com',\n",
       " 'maria@example.com',\n",
       " 'pontus@example.com'}"
      ]
     },
     "execution_count": 546,
     "metadata": {},
     "output_type": "execute_result"
    }
   ],
   "source": [
    "emails = \"ana@example.com\", \"bob@example.com\", \"maria@example.com\", \"pontus@example.com\" , \"bob@example.com\", \"fufu@example\", \"hej@exapmle.com\"\n",
    "  \n",
    "set(emails)"
   ]
  },
  {
   "cell_type": "code",
   "execution_count": null,
   "id": "06b4e959",
   "metadata": {},
   "outputs": [],
   "source": [
    "#mathematical set operations\n",
    "\n",
    "-union \n",
    "\n",
    "-intersection \n",
    "\n",
    "-excpet"
   ]
  },
  {
   "cell_type": "code",
   "execution_count": 552,
   "id": "12f31076",
   "metadata": {},
   "outputs": [
    {
     "data": {
      "text/plain": [
       "{'carla', 'daniel'}"
      ]
     },
     "execution_count": 552,
     "metadata": {},
     "output_type": "execute_result"
    }
   ],
   "source": [
    "first_month_customers = {\"alice\", \"bob\", \"carla\", \"daniel\"}\n",
    "second_month_customers = {\"carla\", \"daniel\", \"elna\"}\n",
    "\n",
    "first_month_customers.intersection(second_month_customers)\n"
   ]
  },
  {
   "cell_type": "code",
   "execution_count": 553,
   "id": "d323b0e1",
   "metadata": {},
   "outputs": [
    {
     "data": {
      "text/plain": [
       "{'alice', 'bob', 'carla', 'daniel', 'elna'}"
      ]
     },
     "execution_count": 553,
     "metadata": {},
     "output_type": "execute_result"
    }
   ],
   "source": [
    "all_customers = first_month_customers.union(second_month_customers)\n",
    "all_customers"
   ]
  },
  {
   "cell_type": "markdown",
   "id": "226a4781",
   "metadata": {},
   "source": [
    "#we conbine union, exapct intersection "
   ]
  },
  {
   "cell_type": "code",
   "execution_count": 555,
   "id": "68b11574",
   "metadata": {},
   "outputs": [
    {
     "data": {
      "text/plain": [
       "{'alice', 'bob', 'elna'}"
      ]
     },
     "execution_count": 555,
     "metadata": {},
     "output_type": "execute_result"
    }
   ],
   "source": [
    "one_time_customers = first_month_customers.union(second_month_customers) - first_month_customers.intersection(second_month_customers)\n",
    "one_time_customers"
   ]
  },
  {
   "cell_type": "code",
   "execution_count": 556,
   "id": "b2c6b818",
   "metadata": {},
   "outputs": [
    {
     "data": {
      "text/plain": [
       "{'alice', 'bob', 'carla', 'daniel'}"
      ]
     },
     "execution_count": 556,
     "metadata": {},
     "output_type": "execute_result"
    }
   ],
   "source": [
    "first_month_customers"
   ]
  },
  {
   "cell_type": "code",
   "execution_count": 557,
   "id": "a76cab16",
   "metadata": {},
   "outputs": [
    {
     "data": {
      "text/plain": [
       "{'carla', 'daniel', 'elna'}"
      ]
     },
     "execution_count": 557,
     "metadata": {},
     "output_type": "execute_result"
    }
   ],
   "source": [
    "second_month_customers"
   ]
  },
  {
   "cell_type": "markdown",
   "id": "ec2e5086",
   "metadata": {},
   "source": [
    "# sets have no order "
   ]
  },
  {
   "cell_type": "markdown",
   "id": "72d0a3fd",
   "metadata": {},
   "source": [
    "# Egen övning "
   ]
  },
  {
   "cell_type": "code",
   "execution_count": null,
   "id": "774f4c70",
   "metadata": {},
   "outputs": [],
   "source": [
    "# frukt lista \n",
    "frukter = [\"Apple\", \"kiwi\", \"orange\", \"pear\"]\n",
    "\n",
    "frukter.append()"
   ]
  },
  {
   "cell_type": "markdown",
   "id": "60bfb4ce",
   "metadata": {},
   "source": [
    "## Egen övning nummer 1 (Personregister)"
   ]
  },
  {
   "cell_type": "code",
   "execution_count": null,
   "id": "3f57c514",
   "metadata": {},
   "outputs": [],
   "source": [
    "# Personregister\n",
    "\n",
    "namn"
   ]
  },
  {
   "cell_type": "code",
   "execution_count": 596,
   "id": "065b901d",
   "metadata": {},
   "outputs": [
    {
     "data": {
      "text/plain": [
       "[1, 16, 81, 256, 625, 1296, 2401, 4096, 6561]"
      ]
     },
     "execution_count": 596,
     "metadata": {},
     "output_type": "execute_result"
    }
   ],
   "source": [
    "cubes = [x**4 for x in range(1,10)]\n",
    "\n",
    "cubes"
   ]
  },
  {
   "cell_type": "code",
   "execution_count": 604,
   "id": "30122870",
   "metadata": {},
   "outputs": [
    {
     "ename": "ModuleNotFoundError",
     "evalue": "No module named 'matplotlib'",
     "output_type": "error",
     "traceback": [
      "\u001b[31m---------------------------------------------------------------------------\u001b[39m",
      "\u001b[31mModuleNotFoundError\u001b[39m                       Traceback (most recent call last)",
      "\u001b[36mCell\u001b[39m\u001b[36m \u001b[39m\u001b[32mIn[604]\u001b[39m\u001b[32m, line 1\u001b[39m\n\u001b[32m----> \u001b[39m\u001b[32m1\u001b[39m \u001b[38;5;28;01mimport\u001b[39;00m\u001b[38;5;250m \u001b[39m\u001b[34;01mmatplotlib\u001b[39;00m\n",
      "\u001b[31mModuleNotFoundError\u001b[39m: No module named 'matplotlib'"
     ]
    }
   ],
   "source": [
    "import matplotlib\n"
   ]
  }
 ],
 "metadata": {
  "kernelspec": {
   "display_name": "Python_Zakaria_Nasra_DE25",
   "language": "python",
   "name": "python3"
  },
  "language_info": {
   "codemirror_mode": {
    "name": "ipython",
    "version": 3
   },
   "file_extension": ".py",
   "mimetype": "text/x-python",
   "name": "python",
   "nbconvert_exporter": "python",
   "pygments_lexer": "ipython3",
   "version": "3.12.10"
  }
 },
 "nbformat": 4,
 "nbformat_minor": 5
}
