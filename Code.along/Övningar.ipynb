{
 "cells": [
  {
   "cell_type": "markdown",
   "id": "0d98d41b",
   "metadata": {},
   "source": [
    "# If-statements "
   ]
  },
  {
   "cell_type": "code",
   "execution_count": 46,
   "id": "5a9f035e",
   "metadata": {},
   "outputs": [
    {
     "name": "stdout",
     "output_type": "stream",
     "text": [
      "sorry, you are too young to attend this scary movie\n",
      "watch cartoons instead\n"
     ]
    }
   ],
   "source": [
    "age = int(input(\"Enter your age: \"))\n",
    "age_limit = 15\n",
    "if age < age_limit:\n",
    "    print(\"sorry, you are too young to attend this scary movie\")\n",
    "    print(\"watch cartoons instead\")\n",
    "else:\n",
    "        print(\"enjoy this scary movie!\")\n"
   ]
  },
  {
   "cell_type": "code",
   "execution_count": null,
   "id": "1daa3cbb",
   "metadata": {},
   "outputs": [
    {
     "name": "stdout",
     "output_type": "stream",
     "text": [
      "Welcome to the rollercoster\n"
     ]
    }
   ],
   "source": [
    "age = 15\n",
    "height = 130 \n",
    "\n",
    "if age > 11 and  130  <= height < 210:\n",
    "    print(\"Welcome to the rollercoster\")\n",
    "else:\n",
    "    print(\"Come back when you fullfill reqiuerments\")\n",
    "\n",
    "\n",
    "    "
   ]
  },
  {
   "cell_type": "markdown",
   "id": "2c76c7ee",
   "metadata": {},
   "source": [
    "# Modulo Operater"
   ]
  },
  {
   "cell_type": "code",
   "execution_count": 13,
   "id": "093c8851",
   "metadata": {},
   "outputs": [
    {
     "name": "stdout",
     "output_type": "stream",
     "text": [
      "odd number\n"
     ]
    }
   ],
   "source": [
    "number = 5\n",
    "if not number % 2:\n",
    "    print(\"even number\")\n",
    "else: \n",
    "    print(\"odd number\")    "
   ]
  },
  {
   "cell_type": "markdown",
   "id": "5ae4be43",
   "metadata": {},
   "source": [
    "Truthy and falsy values"
   ]
  },
  {
   "cell_type": "code",
   "execution_count": 10,
   "id": "78fd7879",
   "metadata": {},
   "outputs": [
    {
     "name": "stdout",
     "output_type": "stream",
     "text": [
      "odd\n"
     ]
    }
   ],
   "source": [
    "number = 10\n",
    "if number % 2:\n",
    "    print(\"even\")\n",
    "else:\n",
    "    print(\"odd\")"
   ]
  },
  {
   "cell_type": "code",
   "execution_count": 15,
   "id": "ab8e44d7",
   "metadata": {},
   "outputs": [
    {
     "name": "stdout",
     "output_type": "stream",
     "text": [
      "Truthy\n"
     ]
    }
   ],
   "source": [
    "if [3]:\n",
    "    print(\"Truthy\")\n",
    "else:\n",
    "    print(\"Falsy\")    "
   ]
  },
  {
   "cell_type": "code",
   "execution_count": null,
   "id": "78a5b152",
   "metadata": {},
   "outputs": [
    {
     "name": "stdout",
     "output_type": "stream",
     "text": [
      "Falsy\n"
     ]
    }
   ],
   "source": [
    " if 0:\n",
    "    print(\"Truthy\")\n",
    "else:\n",
    "    print(\"Falsy\") "
   ]
  },
  {
   "cell_type": "markdown",
   "id": "5983b791",
   "metadata": {},
   "source": [
    "# if-elif-else"
   ]
  },
  {
   "cell_type": "code",
   "execution_count": 32,
   "id": "2637f32c",
   "metadata": {},
   "outputs": [
    {
     "name": "stdout",
     "output_type": "stream",
     "text": [
      "Give patient 500mg\n"
     ]
    }
   ],
   "source": [
    "weight = 12\n",
    "if weight < 20:\n",
    "    print(\"Give patient 500mg\")\n",
    "elif weight < 40:\n",
    "    print(\"Give patient 750mg\")\n",
    "else: \n",
    "    print(\"Give patient 1000mg\")\n",
    "\n"
   ]
  },
  {
   "cell_type": "markdown",
   "id": "c5b38653",
   "metadata": {},
   "source": [
    "# Nested if statements "
   ]
  },
  {
   "cell_type": "code",
   "execution_count": 36,
   "id": "f657f813",
   "metadata": {},
   "outputs": [
    {
     "name": "stdout",
     "output_type": "stream",
     "text": [
      "25 is divisible by 5\n",
      "25 is odd\n"
     ]
    }
   ],
   "source": [
    "number = 25\n",
    "if number % 5 == 0:\n",
    "    print(f\"{number} is divisible by 5\")\n",
    "    if number % 2 == 0:\n",
    "        print(f\"{number} is  even\")\n",
    "    else:\n",
    "        print(f\"{number} is odd\")   \n",
    "  "
   ]
  },
  {
   "cell_type": "markdown",
   "id": "a875fe89",
   "metadata": {},
   "source": [
    "# One line if statements "
   ]
  },
  {
   "cell_type": "code",
   "execution_count": null,
   "id": "74468a54",
   "metadata": {},
   "outputs": [
    {
     "name": "stdout",
     "output_type": "stream",
     "text": [
      "zakaria contains the leter 'z' \n"
     ]
    }
   ],
   "source": [
    "name = \"zakaria\"\n",
    "gender = \"male\"\n",
    "age = 27\n",
    "\n",
    "# one line if statement\n",
    "# \".lower()\" method converts all characters in a string to lowercase.\n",
    "if \"z\" in name.lower(): print(f\"{name} contains the leter 'z' \")\n"
   ]
  },
  {
   "cell_type": "code",
   "execution_count": 41,
   "id": "75249e48",
   "metadata": {},
   "outputs": [
    {
     "name": "stdout",
     "output_type": "stream",
     "text": [
      "Hi mister zakaria\n"
     ]
    }
   ],
   "source": [
    "print(f\"Hi mister {name}\"if gender == \"male\" else f\"Hi miss {name}\")"
   ]
  },
  {
   "cell_type": "code",
   "execution_count": 45,
   "id": "ff79df59",
   "metadata": {},
   "outputs": [
    {
     "name": "stdout",
     "output_type": "stream",
     "text": [
      "True\n"
     ]
    }
   ],
   "source": [
    "# one line if-else variable assignment\n",
    "age = 17\n",
    "is_child = True if age < 18 else False\n",
    "print(is_child)"
   ]
  }
 ],
 "metadata": {
  "kernelspec": {
   "display_name": "Python_Zakaria_Nasra_DE25",
   "language": "python",
   "name": "python3"
  },
  "language_info": {
   "codemirror_mode": {
    "name": "ipython",
    "version": 3
   },
   "file_extension": ".py",
   "mimetype": "text/x-python",
   "name": "python",
   "nbconvert_exporter": "python",
   "pygments_lexer": "ipython3",
   "version": "3.12.10"
  }
 },
 "nbformat": 4,
 "nbformat_minor": 5
}
