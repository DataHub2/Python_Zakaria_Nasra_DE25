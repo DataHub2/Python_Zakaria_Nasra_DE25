{
 "cells": [
  {
   "cell_type": "code",
   "execution_count": null,
   "id": "11382959",
   "metadata": {},
   "outputs": [
    {
     "name": "stdout",
     "output_type": "stream",
     "text": [
      "the hypo is 5.0 \n"
     ]
    }
   ],
   "source": [
    "import math\n",
    "\n",
    "#ex1\n",
    "#Pythagorean theorem\n",
    "\n",
    "a = 3\n",
    "\n",
    "b = 4\n",
    "\n",
    "c = math.sqrt(a**2 + b**2)\n",
    "print(f\"the hypo is {c} \")\n"
   ]
  },
  {
   "cell_type": "code",
   "execution_count": null,
   "id": "bbb933a2",
   "metadata": {},
   "outputs": [
    {
     "name": "stdout",
     "output_type": "stream",
     "text": [
      "The hypo is  4.9\n"
     ]
    }
   ],
   "source": [
    "import math\n",
    "\n",
    "#ex2\n",
    "\n",
    "a = 5\n",
    "\n",
    "c = 7\n",
    "\n",
    "b = math.sqrt(c**2 - a**2)\n",
    "\n",
    "print(f\"b is  {b: .1f}\")\n"
   ]
  },
  {
   "cell_type": "code",
   "execution_count": 20,
   "id": "8eb9125a",
   "metadata": {},
   "outputs": [
    {
     "name": "stdout",
     "output_type": "stream",
     "text": [
      "Modellens träffsäkerhet är  82.2%\n"
     ]
    }
   ],
   "source": [
    "#ex2\n",
    "\n",
    "total_predictions = 365\n",
    "correct_predictions = 300\n",
    "\n",
    "accuracy = (correct_predictions/total_predictions)\n",
    "\n",
    "print(f\"Modellens träffsäkerhet är {accuracy: .1%}\")\n"
   ]
  },
  {
   "cell_type": "code",
   "execution_count": 23,
   "id": "bfeec7e5",
   "metadata": {},
   "outputs": [
    {
     "name": "stdout",
     "output_type": "stream",
     "text": [
      "=== File metadata ===\n",
      "Filename: sales_data.csv\n",
      "Size (MB): 24.7\n",
      "Last modified Year: 2023\n"
     ]
    }
   ],
   "source": [
    "#3. File metadata - format print\n",
    "f_name = \"sales_data.csv\"\n",
    "mb_size =  24.7\n",
    "last_mod_year = 2023\n",
    "\n",
    "print(\"=== File metadata ===\")\n",
    "print(f\"Filename: {f_name}\")\n",
    "print(f\"Size (MB): {mb_size}\")\n",
    "print(f\"Last modified Year: {last_mod_year}\")\n",
    "\n",
    "\n",
    "\n"
   ]
  },
  {
   "cell_type": "code",
   "execution_count": null,
   "id": "17678ebc",
   "metadata": {},
   "outputs": [
    {
     "name": "stdout",
     "output_type": "stream",
     "text": [
      "17.0 inches är 43.18 centimeter\n"
     ]
    }
   ],
   "source": [
    "# Unit converter - inch to cm\n",
    "\n",
    "\n",
    "inches_input = input(\"Ange antal inches: \")\n",
    "\n",
    "\n",
    "inches = float(inches_input)\n",
    "\n",
    "\n",
    "cm_per_inch = 2.54\n",
    "\n",
    "centimeters = inches * cm_per_inch\n",
    "\n",
    "\n",
    "print(f\"{inches} inches är {centimeters} centimeter\")\n",
    "\n"
   ]
  },
  {
   "cell_type": "code",
   "execution_count": 3,
   "id": "55b54f68",
   "metadata": {},
   "outputs": [
    {
     "name": "stdout",
     "output_type": "stream",
     "text": [
      "This is the amount of characters in this text : 10\n"
     ]
    }
   ],
   "source": [
    "# Count characters in a text \n",
    "\n",
    "character_input = input(\"write the text here!\")\n",
    "\n",
    "count_input_characters =  len(character_input)\n",
    "\n",
    "print(f\"This is the amount of characters in this text : {count_input_characters}\")"
   ]
  },
  {
   "cell_type": "code",
   "execution_count": 2,
   "id": "a4cedece",
   "metadata": {},
   "outputs": [
    {
     "name": "stdout",
     "output_type": "stream",
     "text": [
      "then 7 is bigger then 5\n"
     ]
    }
   ],
   "source": [
    "if 5 < 7:\n",
    "   print(\"then 7 is bigger then 5\")"
   ]
  }
 ],
 "metadata": {
  "kernelspec": {
   "display_name": "Python_Zakaria_Nasra_DE25",
   "language": "python",
   "name": "python3"
  },
  "language_info": {
   "codemirror_mode": {
    "name": "ipython",
    "version": 3
   },
   "file_extension": ".py",
   "mimetype": "text/x-python",
   "name": "python",
   "nbconvert_exporter": "python",
   "pygments_lexer": "ipython3",
   "version": "3.12.10"
  }
 },
 "nbformat": 4,
 "nbformat_minor": 5
}
