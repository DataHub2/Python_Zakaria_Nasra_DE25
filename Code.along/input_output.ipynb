{
 "cells": [
  {
   "cell_type": "code",
   "execution_count": 17,
   "id": "06d05615",
   "metadata": {},
   "outputs": [
    {
     "name": "stdout",
     "output_type": "stream",
     "text": [
      "Hello World!\n"
     ]
    }
   ],
   "source": [
    "print(\"Hello World!\")"
   ]
  },
  {
   "cell_type": "markdown",
   "id": "584d660e",
   "metadata": {},
   "source": [
    "## inputs"
   ]
  },
  {
   "cell_type": "code",
   "execution_count": 18,
   "id": "0da663f6",
   "metadata": {},
   "outputs": [
    {
     "name": "stdout",
     "output_type": "stream",
     "text": [
      "My name is Zakaria\n"
     ]
    }
   ],
   "source": [
    "print(\"My name is Zakaria\")"
   ]
  },
  {
   "cell_type": "code",
   "execution_count": 19,
   "id": "49ce8528",
   "metadata": {},
   "outputs": [
    {
     "name": "stdout",
     "output_type": "stream",
     "text": [
      "Your name is Zakaria\n"
     ]
    }
   ],
   "source": [
    "name = \"Zakaria\"\n",
    "print(f\"Your name is {name}\")"
   ]
  },
  {
   "cell_type": "code",
   "execution_count": 21,
   "id": "fd1d28fb",
   "metadata": {},
   "outputs": [
    {
     "name": "stdout",
     "output_type": "stream",
     "text": [
      "Zakaria is 27 years old.\n"
     ]
    }
   ],
   "source": [
    "name = input(\"What is your name?\")\n",
    "age = input(\"How old are you?\")\n",
    "\n",
    "print(f\"{name} is {age} years old.\")"
   ]
  },
  {
   "cell_type": "markdown",
   "id": "2ae45157",
   "metadata": {},
   "source": [
    "## type coercion "
   ]
  },
  {
   "cell_type": "code",
   "execution_count": 35,
   "id": "d2ffc5b2",
   "metadata": {},
   "outputs": [
    {
     "name": "stdout",
     "output_type": "stream",
     "text": [
      "force = 736.5N\n"
     ]
    }
   ],
   "source": [
    "gravity = 9.82\n",
    "mass = float(input(\"Enter your weight in kg:\"))\n",
    "\n",
    "force = mass*gravity\n",
    "\n",
    "print(f\"{force = }N\")"
   ]
  },
  {
   "cell_type": "code",
   "execution_count": 36,
   "id": "2aa813bd",
   "metadata": {},
   "outputs": [
    {
     "name": "stdout",
     "output_type": "stream",
     "text": [
      "force = 736.5N\n"
     ]
    }
   ],
   "source": [
    "print(f\"{force = :.1f}N\")"
   ]
  },
  {
   "cell_type": "code",
   "execution_count": 75,
   "id": "f564b194",
   "metadata": {},
   "outputs": [
    {
     "data": {
      "text/plain": [
       "5.0"
      ]
     },
     "execution_count": 75,
     "metadata": {},
     "output_type": "execute_result"
    }
   ],
   "source": [
    "number = 5\n",
    "float(number)"
   ]
  },
  {
   "cell_type": "markdown",
   "id": "f525344c",
   "metadata": {},
   "source": [
    "## Some more types!"
   ]
  },
  {
   "cell_type": "code",
   "execution_count": 38,
   "id": "c480b4c0",
   "metadata": {},
   "outputs": [
    {
     "data": {
      "text/plain": [
       "(int, str, bool, float)"
      ]
     },
     "execution_count": 38,
     "metadata": {},
     "output_type": "execute_result"
    }
   ],
   "source": [
    "radius = 7 \n",
    "geometry = \"circle\"\n",
    "is_unite_circle = False\n",
    "screen_inches = 6.4\n",
    "\n",
    "type(radius), type(geometry), type(is_unite_circle), type(screen_inches)"
   ]
  },
  {
   "cell_type": "markdown",
   "id": "cafe4015",
   "metadata": {},
   "source": [
    "## IF STATEMENTS"
   ]
  },
  {
   "cell_type": "code",
   "execution_count": 1,
   "id": "90aa492a",
   "metadata": {},
   "outputs": [
    {
     "name": "stdout",
     "output_type": "stream",
     "text": [
      "sorry, you are too young to attend this scary movie\n",
      "watch cartoons instead\n"
     ]
    }
   ],
   "source": [
    "age = int(input(\"Enter your age: \"))\n",
    "age_limit = 15\n",
    "if age < age_limit:\n",
    "    print(\"sorry, you are too young to attend this scary movie\")\n",
    "    print(\"watch cartoons instead\")\n",
    "else:\n",
    "        print(\"enjoy this scary movie!\")"
   ]
  },
  {
   "cell_type": "code",
   "execution_count": 2,
   "id": "12ea6f77",
   "metadata": {},
   "outputs": [
    {
     "name": "stdout",
     "output_type": "stream",
     "text": [
      "Welcome to the rollercoster\n"
     ]
    }
   ],
   "source": [
    "age = 15\n",
    "height = 130 \n",
    "\n",
    "if age > 11 and  130  <= height < 210:\n",
    "    print(\"Welcome to the rollercoster\")\n",
    "else:\n",
    "    print(\"Come back when you fullfill reqiuerments\")\n"
   ]
  },
  {
   "cell_type": "markdown",
   "id": "2978bf2f",
   "metadata": {},
   "source": [
    "## Modulo Operater"
   ]
  },
  {
   "cell_type": "code",
   "execution_count": 140,
   "id": "8068efd4",
   "metadata": {},
   "outputs": [
    {
     "name": "stdout",
     "output_type": "stream",
     "text": [
      "odd number\n"
     ]
    }
   ],
   "source": [
    "number = 5\n",
    "if not number % 2:\n",
    "    print(\"even number\")\n",
    "else: \n",
    "    print(\"odd number\") "
   ]
  },
  {
   "cell_type": "markdown",
   "id": "053140cc",
   "metadata": {},
   "source": [
    "## Truthy and falsy values"
   ]
  },
  {
   "cell_type": "code",
   "execution_count": 3,
   "id": "cc27b1b1",
   "metadata": {},
   "outputs": [
    {
     "name": "stdout",
     "output_type": "stream",
     "text": [
      "odd\n"
     ]
    }
   ],
   "source": [
    "number = 10\n",
    "if number % 2:\n",
    "    print(\"even\")\n",
    "else:\n",
    "    print(\"odd\")"
   ]
  },
  {
   "cell_type": "code",
   "execution_count": 4,
   "id": "44c9d978",
   "metadata": {},
   "outputs": [
    {
     "name": "stdout",
     "output_type": "stream",
     "text": [
      "odd\n"
     ]
    }
   ],
   "source": [
    "number = 10\n",
    "if number % 2:\n",
    "    print(\"even\")\n",
    "else:\n",
    "    print(\"odd\")"
   ]
  },
  {
   "cell_type": "code",
   "execution_count": 5,
   "id": "a40b63c9",
   "metadata": {},
   "outputs": [
    {
     "name": "stdout",
     "output_type": "stream",
     "text": [
      "Falsy\n"
     ]
    }
   ],
   "source": [
    "if 0:\n",
    "    print(\"Truthy\")\n",
    "else:\n",
    "    print(\"Falsy\") "
   ]
  },
  {
   "cell_type": "markdown",
   "id": "86ad09c9",
   "metadata": {},
   "source": [
    "## if-elif-else"
   ]
  },
  {
   "cell_type": "code",
   "execution_count": 6,
   "id": "f320a22a",
   "metadata": {},
   "outputs": [
    {
     "name": "stdout",
     "output_type": "stream",
     "text": [
      "Give patient 500mg\n"
     ]
    }
   ],
   "source": [
    "weight = 12\n",
    "if weight < 20:\n",
    "    print(\"Give patient 500mg\")\n",
    "elif weight < 40:\n",
    "    print(\"Give patient 750mg\")\n",
    "else: \n",
    "    print(\"Give patient 1000mg\")"
   ]
  },
  {
   "cell_type": "markdown",
   "id": "4e663643",
   "metadata": {},
   "source": [
    "# Nested if statements "
   ]
  },
  {
   "cell_type": "code",
   "execution_count": 7,
   "id": "7a4a379d",
   "metadata": {},
   "outputs": [
    {
     "name": "stdout",
     "output_type": "stream",
     "text": [
      "25 is divisible by 5\n",
      "25 is odd\n"
     ]
    }
   ],
   "source": [
    "number = 25\n",
    "if number % 5 == 0:\n",
    "    print(f\"{number} is divisible by 5\")\n",
    "    if number % 2 == 0:\n",
    "        print(f\"{number} is  even\")\n",
    "    else:\n",
    "        print(f\"{number} is odd\") "
   ]
  },
  {
   "cell_type": "markdown",
   "id": "ea8bc15a",
   "metadata": {},
   "source": [
    "# One line if statements"
   ]
  },
  {
   "cell_type": "code",
   "execution_count": 8,
   "id": "6befd70c",
   "metadata": {},
   "outputs": [
    {
     "name": "stdout",
     "output_type": "stream",
     "text": [
      "zakaria contains the leter 'z' \n"
     ]
    }
   ],
   "source": [
    "name = \"zakaria\"\n",
    "gender = \"male\"\n",
    "age = 27\n",
    "\n",
    "# one line if statement\n",
    "# \".lower()\" method converts all characters in a string to lowercase.\n",
    "if \"z\" in name.lower(): print(f\"{name} contains the leter 'z' \")"
   ]
  },
  {
   "cell_type": "code",
   "execution_count": 9,
   "id": "75d78059",
   "metadata": {},
   "outputs": [
    {
     "name": "stdout",
     "output_type": "stream",
     "text": [
      "Hi mister zakaria\n"
     ]
    }
   ],
   "source": [
    "print(f\"Hi mister {name}\"if gender == \"male\" else f\"Hi miss {name}\")"
   ]
  },
  {
   "cell_type": "code",
   "execution_count": 10,
   "id": "e3c084ac",
   "metadata": {},
   "outputs": [
    {
     "name": "stdout",
     "output_type": "stream",
     "text": [
      "True\n"
     ]
    }
   ],
   "source": [
    "# one line if-else variable assignment\n",
    "age = 17\n",
    "is_child = True if age < 18 else False\n",
    "print(is_child)"
   ]
  },
  {
   "cell_type": "markdown",
   "id": "b1cb2518",
   "metadata": {},
   "source": [
    "# Grundläggande if-elif-else övningar. "
   ]
  },
  {
   "cell_type": "code",
   "execution_count": 50,
   "id": "08a47655",
   "metadata": {},
   "outputs": [
    {
     "name": "stdout",
     "output_type": "stream",
     "text": [
      "pensionär\n"
     ]
    }
   ],
   "source": [
    "# Ordning baserat på ålder.  \n",
    "\n",
    "ålder = int(input(\"ange ålder här: \"))\n",
    "\n",
    "if ålder < 18:\n",
    "    print(\"barn\")\n",
    "elif ålder > 65: \n",
    "    print(\"pensionär\")\n",
    "else:\n",
    "    print(\"vuxen\")    "
   ]
  },
  {
   "cell_type": "code",
   "execution_count": null,
   "id": "0e7589fb",
   "metadata": {},
   "outputs": [],
   "source": [
    "\n",
    "if 16 <=  <= 19:\n",
    "    print(\"Din studentrabatt är 30%\")\n",
    "elif 65 <= customer: \n",
    "    print(\"Din pensionärrabatt är 50%\")  \n",
    "else:\n",
    "    print(\"Tyvärr, du har ingen studentrabatt\")  "
   ]
  },
  {
   "cell_type": "code",
   "execution_count": null,
   "id": "0719e7a3",
   "metadata": {},
   "outputs": [],
   "source": [
    "if number % 5 == 0:\n",
    "    print"
   ]
  },
  {
   "cell_type": "code",
   "execution_count": 69,
   "id": "6e8ed74e",
   "metadata": {},
   "outputs": [
    {
     "name": "stdout",
     "output_type": "stream",
     "text": [
      "Sätt på dig vinter jacka\n"
     ]
    }
   ],
   "source": [
    "# Väderklädsel\n",
    "temperatur = int(input(\" Ange temperatur här: \"))  \n",
    "if temperatur < 0:\n",
    "    print(\"Sätt på dig vinter jacka\")\n",
    "elif temperatur < 10:\n",
    "    print(\"sätt på dig höst jacka\")\n",
    "elif temperatur < 20: \n",
    "    print(\"sätt på dig t shirt men ta med dig en hoodie ifall det blir kallare på kvällen\")      \n",
    "elif temperatur < 30:\n",
    "    print(\"sätt på dig t shirt och shorts\")\n",
    "else:\n",
    "        print(\"sätt dig i solen och njut, glöm inte solkräm!\")\n",
    "\n",
    "\n",
    "\n",
    "\n",
    "        \n"
   ]
  },
  {
   "cell_type": "code",
   "execution_count": 157,
   "id": "2442c950",
   "metadata": {},
   "outputs": [
    {
     "name": "stdout",
     "output_type": "stream",
     "text": [
      "Du får 30% rabatt. Pris: 70.0 kr\n"
     ]
    }
   ],
   "source": [
    "kostnad_per_äpple = 10\n",
    "kund = input(\"Är du student eller pensionär?\")\n",
    "\n",
    "Äpple = int(input(\"Hur många äpplen vill du handla?\"))\n",
    "\n",
    "total_kostnad = kostnad_per_äpple * Äpple\n",
    "\n",
    "if kund == \"student\":\n",
    "    sista_pris = total_kostnad * 0.70  \n",
    "    print(f\"Du får 30% rabatt. Pris: {sista_pris} kr\")\n",
    "elif kund == \"pensionär\":\n",
    "    sista_pris = total_kostnad * 0.50    \n",
    "    print(f\"Du får 50% rabatt. Pris: {sista_pris} kr\")\n",
    "else:\n",
    "    sista_pris = total_kostnad\n",
    "    print(f\"Du får ingen rabatt. Pris: {sista_pris} kr\")"
   ]
  },
  {
   "cell_type": "code",
   "execution_count": null,
   "id": "5913a1cb",
   "metadata": {},
   "outputs": [],
   "source": [
    "# Träningsintensitet\n",
    "\n",
    "puls = inte(input(\"Ange din puls här: \"))\n",
    "if 100 <= puls < 120:\n",
    "    print(\"låg intensitet\")\n",
    "    \n"
   ]
  },
  {
   "cell_type": "markdown",
   "id": "eced9bfb",
   "metadata": {},
   "source": [
    "# While-statement"
   ]
  },
  {
   "cell_type": "code",
   "execution_count": 46,
   "id": "d0fbe686",
   "metadata": {},
   "outputs": [],
   "source": [
    "n  = 0\n",
    "while zak < 6:\n",
    "    print(f\"Hello {n}\")\n",
    "    zak += 2\n",
    "    "
   ]
  },
  {
   "cell_type": "code",
   "execution_count": 85,
   "id": "f4015d48",
   "metadata": {},
   "outputs": [
    {
     "name": "stdout",
     "output_type": "stream",
     "text": [
      "year 0 there were  80000 \n",
      "year 1 there were  40000 \n",
      "year 2 there were  20000 \n",
      "year 3 there were  10000 \n",
      "it takes 4 for the birds to have 1/10 remaining\n"
     ]
    }
   ],
   "source": [
    "# Example - Oil leakage\n",
    "\n",
    "birds = 80000\n",
    "year = 0\n",
    "\n",
    "while birds > 8000:\n",
    "    print(f\"year {year} there were {birds: .0f} \")\n",
    "    birds /= 2\n",
    "    year += 1\n",
    "print(f\"it takes {year} for the birds to have 1/10 remaining\")\n"
   ]
  },
  {
   "cell_type": "code",
   "execution_count": 88,
   "id": "6c9ac76b",
   "metadata": {},
   "outputs": [
    {
     "name": "stdout",
     "output_type": "stream",
     "text": [
      "-19 -17 -15 -13 -11 -9 -7 -5 -3 -1 1 3 5 7 9 11 13 15 17 19 "
     ]
    }
   ],
   "source": [
    "# Jämna tal\n",
    "n = -19\n",
    "while n <= 20:\n",
    "    print(n, end=\" \")\n",
    "    n += 2\n"
   ]
  },
  {
   "cell_type": "markdown",
   "id": "fb30e24e",
   "metadata": {},
   "source": [
    "## Break statement."
   ]
  },
  {
   "cell_type": "code",
   "execution_count": 125,
   "id": "7060bf05",
   "metadata": {},
   "outputs": [
    {
     "name": "stdout",
     "output_type": "stream",
     "text": [
      "Correct answer!\n",
      "Thanks for playing today!\n"
     ]
    }
   ],
   "source": [
    "import random as rnd\n",
    "\n",
    "while True:\n",
    "    number1 = rnd.randint(1,10)\n",
    "    number2 = rnd.randint(1,10)\n",
    "   \n",
    "    user_answer = int(input(f\"What is {number1}*{number2}?\"))\n",
    "    if user_answer == number1*number2:\n",
    "        print(\"Correct answer!\") \n",
    "       \n",
    "    else:\n",
    "        print(f\"Wrong answer! The awnser is {number1}*{number2}! \")\n",
    "\n",
    "    play_again = input(\"Do you want to play again? If yes type in yes and press enter!\")\n",
    "    if play_again != \"yes\":\n",
    "        print(\"Thanks for playing today!\")\n",
    "        break\n",
    "\n",
    "\n",
    "\n",
    "\n",
    "\n",
    "\n",
    "\n",
    "\n",
    "\n"
   ]
  },
  {
   "cell_type": "markdown",
   "id": "54d311dc",
   "metadata": {},
   "source": [
    "# For statements "
   ]
  },
  {
   "cell_type": "code",
   "execution_count": null,
   "id": "30ca9b9e",
   "metadata": {},
   "outputs": [
    {
     "name": "stdout",
     "output_type": "stream",
     "text": [
      "1\n",
      "2\n",
      "3\n",
      "4\n",
      "5\n"
     ]
    }
   ],
   "source": [
    "# Övning 1: Enkel räkning\n",
    "# Skriv en for-loop som skriver ut talen 1 till 5.\n",
    "for i in range(1, 6):\n",
    "    print(i)"
   ]
  },
  {
   "cell_type": "code",
   "execution_count": null,
   "id": "a956189b",
   "metadata": {},
   "outputs": [
    {
     "name": "stdout",
     "output_type": "stream",
     "text": [
      "1\n",
      "2\n",
      "3\n",
      "4\n",
      "5\n",
      "6\n",
      "7\n",
      "8\n",
      "9\n",
      "10\n",
      "summan av dessa tal är: 55\n"
     ]
    }
   ],
   "source": [
    "# Övning 2: Summering\n",
    "sum_ = 0\n",
    "for i in range(1,11):\n",
    "    sum_ += i\n",
    "    print(i)\n",
    "print(f\"summan av dessa tal är: {sum_}\")    \n"
   ]
  },
  {
   "cell_type": "code",
   "execution_count": 138,
   "id": "b9927c80",
   "metadata": {},
   "outputs": [
    {
     "name": "stdout",
     "output_type": "stream",
     "text": [
      "0 2 4 6 8 10 "
     ]
    }
   ],
   "source": [
    "# Övning 3: Jämna tal\n",
    "# Skriv en for-loop som skriver ut alla jämna tal mellan 0 och 10.\n",
    "for i in range(0, 11, 2):\n",
    "    print(i, end =\" \")\n",
    "\n",
    "\n"
   ]
  },
  {
   "cell_type": "code",
   "execution_count": null,
   "id": "d6223782",
   "metadata": {},
   "outputs": [],
   "source": [
    "# övning summa \n",
    "sum_ = 0 \n",
    "for i in range (1, 11):\n",
    "    sum += i"
   ]
  },
  {
   "cell_type": "code",
   "execution_count": 141,
   "id": "6f44af0b",
   "metadata": {},
   "outputs": [
    {
     "name": "stdout",
     "output_type": "stream",
     "text": [
      "BETYGSRAPPORT\n",
      "=============\n",
      "Elev 1: 45 poäng -> Betyg F\n",
      "Elev 2: 67 poäng -> Betyg D\n",
      "Elev 3: 23 poäng -> Betyg F\n",
      "Elev 4: 89 poäng -> Betyg B\n",
      "Elev 5: 56 poäng -> Betyg D\n",
      "Elev 6: 91 poäng -> Betyg A\n",
      "Elev 7: 34 poäng -> Betyg F\n",
      "Elev 8: 78 poäng -> Betyg C\n",
      "Elev 9: 12 poäng -> Betyg F\n",
      "Elev 10: 65 poäng -> Betyg D\n",
      "\n",
      "Sammanfattning: 6 av 10 elever godkända\n"
     ]
    }
   ],
   "source": [
    "# Lista med elevers poäng\n",
    "elevers_poäng = [45, 67, 23, 89, 56, 91, 34, 78, 12, 65]\n",
    "\n",
    "print(\"BETYGSRAPPORT\")\n",
    "print(\"=============\")\n",
    "\n",
    "# For-loop genom alla elever\n",
    "for i, poäng in enumerate(elevers_poäng, 1):\n",
    "    # If-satser för att bestämma betyg\n",
    "    if poäng >= 90:\n",
    "        betyg = \"A\"\n",
    "    elif poäng >= 80:\n",
    "        betyg = \"B\"\n",
    "    elif poäng >= 70:\n",
    "        betyg = \"C\"\n",
    "    elif poäng >= 50:\n",
    "        betyg = \"D\"\n",
    "    else:\n",
    "        betyg = \"F\"\n",
    "    \n",
    "    # Skriv ut resultat\n",
    "    print(f\"Elev {i}: {poäng} poäng -> Betyg {betyg}\")\n",
    "\n",
    "# Summering\n",
    "godkända = 0\n",
    "for poäng in elevers_poäng:\n",
    "    if poäng >= 50:\n",
    "        godkända += 1\n",
    "\n",
    "print(f\"\\nSammanfattning: {godkända} av {len(elevers_poäng)} elever godkända\")"
   ]
  },
  {
   "cell_type": "code",
   "execution_count": null,
   "id": "fce90128",
   "metadata": {},
   "outputs": [],
   "source": [
    "## Decide discounts for a customer\n",
    "\n"
   ]
  },
  {
   "cell_type": "code",
   "execution_count": 181,
   "id": "3d93090e",
   "metadata": {},
   "outputs": [
    {
     "name": "stdout",
     "output_type": "stream",
     "text": [
      "You get a 30% discount. price: 70.0 kr\n"
     ]
    }
   ],
   "source": [
    "## Rabatter\n",
    "cost_per_apple = 10\n",
    "costumer = input(\"Are you a student or a pensioner?\")\n",
    "\n",
    "apple = int(input(\"How many apples do you want to buy?\"))\n",
    "\n",
    "total_cost = cost_per_apple * apple\n",
    "\n",
    "if costumer == \"student\":\n",
    "    final_cost = total_cost * 0.70  \n",
    "    print(f\"You get a 30% discount. price: {final_cost} kr\")\n",
    "elif costumer == \"pensioner\":\n",
    "    final_cost = total_cost * 0.50    \n",
    "    print(f\"You get a 50% discount. Price: {final_cost} kr\")\n",
    "else:\n",
    "    final_cost = total_cost\n",
    "    print(f\"No discount available. Price: {final_cost} kr\")"
   ]
  },
  {
   "cell_type": "code",
   "execution_count": null,
   "id": "4d8081a5",
   "metadata": {},
   "outputs": [],
   "source": [
    "i = 0 \n",
    "\n",
    "while True:\n",
    "    print (i)\n",
    "    i += 1\n",
    "    if i >= 5: # this is the same as saying if (i) is bigger or as much as 5 then stop the loop (break)\n",
    "        break"
   ]
  },
  {
   "cell_type": "code",
   "execution_count": 182,
   "id": "12d3a9c1",
   "metadata": {},
   "outputs": [
    {
     "name": "stdout",
     "output_type": "stream",
     "text": [
      "1\n",
      "3\n"
     ]
    }
   ],
   "source": [
    "# an example with three arguments \n",
    "\n",
    "for i in range(1, 5, 2):\n",
    "    print(i)"
   ]
  },
  {
   "cell_type": "code",
   "execution_count": 183,
   "id": "fa96ae0b",
   "metadata": {},
   "outputs": [
    {
     "name": "stdout",
     "output_type": "stream",
     "text": [
      "1 3 "
     ]
    }
   ],
   "source": [
    "# we want to change the default setting of print() fuction to not start a new line \n",
    "for i in range(1, 5, 2):\n",
    "    print(i, end=\" \")\n"
   ]
  },
  {
   "cell_type": "code",
   "execution_count": null,
   "id": "a90da491",
   "metadata": {},
   "outputs": [],
   "source": [
    "import math\n",
    "# Pythagorean theorem\n",
    "\n",
    "a = 3\n",
    "b = 4"
   ]
  }
 ],
 "metadata": {
  "kernelspec": {
   "display_name": "Python_Zakaria_Nasra_DE25",
   "language": "python",
   "name": "python3"
  },
  "language_info": {
   "codemirror_mode": {
    "name": "ipython",
    "version": 3
   },
   "file_extension": ".py",
   "mimetype": "text/x-python",
   "name": "python",
   "nbconvert_exporter": "python",
   "pygments_lexer": "ipython3",
   "version": "3.12.10"
  }
 },
 "nbformat": 4,
 "nbformat_minor": 5
}
