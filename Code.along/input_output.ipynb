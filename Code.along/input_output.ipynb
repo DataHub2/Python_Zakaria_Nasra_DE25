{
 "cells": [
  {
   "cell_type": "code",
   "execution_count": 17,
   "id": "06d05615",
   "metadata": {},
   "outputs": [
    {
     "name": "stdout",
     "output_type": "stream",
     "text": [
      "Hello World!\n"
     ]
    }
   ],
   "source": [
    "print(\"Hello World!\")"
   ]
  },
  {
   "cell_type": "markdown",
   "id": "584d660e",
   "metadata": {},
   "source": [
    "## inputs"
   ]
  },
  {
   "cell_type": "code",
   "execution_count": 18,
   "id": "0da663f6",
   "metadata": {},
   "outputs": [
    {
     "name": "stdout",
     "output_type": "stream",
     "text": [
      "My name is Zakaria\n"
     ]
    }
   ],
   "source": [
    "print(\"My name is Zakaria\")"
   ]
  },
  {
   "cell_type": "code",
   "execution_count": 19,
   "id": "49ce8528",
   "metadata": {},
   "outputs": [
    {
     "name": "stdout",
     "output_type": "stream",
     "text": [
      "Your name is Zakaria\n"
     ]
    }
   ],
   "source": [
    "name = \"Zakaria\"\n",
    "print(f\"Your name is {name}\")"
   ]
  },
  {
   "cell_type": "code",
   "execution_count": 21,
   "id": "fd1d28fb",
   "metadata": {},
   "outputs": [
    {
     "name": "stdout",
     "output_type": "stream",
     "text": [
      "Zakaria is 27 years old.\n"
     ]
    }
   ],
   "source": [
    "name = input(\"What is your name?\")\n",
    "age = input(\"How old are you?\")\n",
    "\n",
    "print(f\"{name} is {age} years old.\")"
   ]
  },
  {
   "cell_type": "markdown",
   "id": "2ae45157",
   "metadata": {},
   "source": [
    "## type coercion "
   ]
  },
  {
   "cell_type": "code",
   "execution_count": 39,
   "id": "f5a48146",
   "metadata": {},
   "outputs": [
    {
     "ename": "TypeError",
     "evalue": "can't multiply sequence by non-int of type 'float'",
     "output_type": "error",
     "traceback": [
      "\u001b[31m---------------------------------------------------------------------------\u001b[39m",
      "\u001b[31mTypeError\u001b[39m                                 Traceback (most recent call last)",
      "\u001b[36mCell\u001b[39m\u001b[36m \u001b[39m\u001b[32mIn[39]\u001b[39m\u001b[32m, line 4\u001b[39m\n\u001b[32m      1\u001b[39m gravity = \u001b[32m9.82\u001b[39m\n\u001b[32m      2\u001b[39m mass = \u001b[38;5;28minput\u001b[39m(\u001b[33m\"\u001b[39m\u001b[33mEnter your weight in kg:\u001b[39m\u001b[33m\"\u001b[39m)\n\u001b[32m----> \u001b[39m\u001b[32m4\u001b[39m force = \u001b[43mmass\u001b[49m\u001b[43m*\u001b[49m\u001b[43mgravity\u001b[49m\n",
      "\u001b[31mTypeError\u001b[39m: can't multiply sequence by non-int of type 'float'"
     ]
    }
   ],
   "source": [
    "gravity = 9.82\n",
    "mass = input(\"Enter your weight in kg:\")\n",
    "\n",
    "force = mass*gravity"
   ]
  },
  {
   "cell_type": "code",
   "execution_count": 35,
   "id": "d2ffc5b2",
   "metadata": {},
   "outputs": [
    {
     "name": "stdout",
     "output_type": "stream",
     "text": [
      "force = 736.5N\n"
     ]
    }
   ],
   "source": [
    "gravity = 9.82\n",
    "mass = float(input(\"Enter your weight in kg:\"))\n",
    "\n",
    "force = mass*gravity\n",
    "\n",
    "print(f\"{force = }N\")"
   ]
  },
  {
   "cell_type": "code",
   "execution_count": 36,
   "id": "2aa813bd",
   "metadata": {},
   "outputs": [
    {
     "name": "stdout",
     "output_type": "stream",
     "text": [
      "force = 736.5N\n"
     ]
    }
   ],
   "source": [
    "print(f\"{force = :.1f}N\")"
   ]
  },
  {
   "cell_type": "code",
   "execution_count": 37,
   "id": "f564b194",
   "metadata": {},
   "outputs": [
    {
     "ename": "ValueError",
     "evalue": "could not convert string to float: 'five'",
     "output_type": "error",
     "traceback": [
      "\u001b[31m---------------------------------------------------------------------------\u001b[39m",
      "\u001b[31mValueError\u001b[39m                                Traceback (most recent call last)",
      "\u001b[36mCell\u001b[39m\u001b[36m \u001b[39m\u001b[32mIn[37]\u001b[39m\u001b[32m, line 2\u001b[39m\n\u001b[32m      1\u001b[39m number = \u001b[33m\"\u001b[39m\u001b[33mfive\u001b[39m\u001b[33m\"\u001b[39m\n\u001b[32m----> \u001b[39m\u001b[32m2\u001b[39m \u001b[38;5;28;43mfloat\u001b[39;49m\u001b[43m(\u001b[49m\u001b[43mnumber\u001b[49m\u001b[43m)\u001b[49m\n",
      "\u001b[31mValueError\u001b[39m: could not convert string to float: 'five'"
     ]
    }
   ],
   "source": [
    "number = \"five\"\n",
    "float(number)"
   ]
  },
  {
   "cell_type": "markdown",
   "id": "f525344c",
   "metadata": {},
   "source": [
    "## Some more types!"
   ]
  },
  {
   "cell_type": "code",
   "execution_count": 38,
   "id": "c480b4c0",
   "metadata": {},
   "outputs": [
    {
     "data": {
      "text/plain": [
       "(int, str, bool, float)"
      ]
     },
     "execution_count": 38,
     "metadata": {},
     "output_type": "execute_result"
    }
   ],
   "source": [
    "radius = 7 \n",
    "geometry = \"circle\"\n",
    "is_unite_circle = False\n",
    "screen_inches = 6.4\n",
    "\n",
    "type(radius), type(geometry), type(is_unite_circle), type(screen_inches)"
   ]
  }
 ],
 "metadata": {
  "kernelspec": {
   "display_name": "Python_Zakaria_Nasra_DE25",
   "language": "python",
   "name": "python3"
  },
  "language_info": {
   "codemirror_mode": {
    "name": "ipython",
    "version": 3
   },
   "file_extension": ".py",
   "mimetype": "text/x-python",
   "name": "python",
   "nbconvert_exporter": "python",
   "pygments_lexer": "ipython3",
   "version": "3.12.10"
  }
 },
 "nbformat": 4,
 "nbformat_minor": 5
}
