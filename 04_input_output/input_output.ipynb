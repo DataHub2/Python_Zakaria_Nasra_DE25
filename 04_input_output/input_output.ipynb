{
 "cells": [
  {
   "cell_type": "code",
   "execution_count": null,
   "id": "06d05615",
   "metadata": {},
   "outputs": [],
   "source": [
    "print(\"hej\") "
   ]
  },
  {
   "cell_type": "code",
   "execution_count": null,
   "id": "0da663f6",
   "metadata": {},
   "outputs": [],
   "source": []
  }
 ],
 "metadata": {
  "language_info": {
   "name": "python"
  }
 },
 "nbformat": 4,
 "nbformat_minor": 5
}
